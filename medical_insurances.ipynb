{
 "metadata": {
  "language_info": {
   "codemirror_mode": {
    "name": "ipython",
    "version": 3
   },
   "file_extension": ".py",
   "mimetype": "text/x-python",
   "name": "python",
   "nbconvert_exporter": "python",
   "pygments_lexer": "ipython3",
   "version": "3.7.3-final"
  },
  "orig_nbformat": 2,
  "kernelspec": {
   "name": "python37364bit58fff6ad5ac74e67a5cc853314a53fcd",
   "display_name": "Python 3.7.3 64-bit"
  }
 },
 "nbformat": 4,
 "nbformat_minor": 2,
 "cells": [
  {
   "source": [
    "import pandas as pd\n",
    "from matplotlib import pyplot as plt"
   ],
   "cell_type": "code",
   "outputs": [],
   "metadata": {},
   "execution_count": null
  },
  {
   "source": [
    "df = pd.read_csv(\"insurance.csv\")"
   ],
   "cell_type": "code",
   "outputs": [],
   "metadata": {},
   "execution_count": null
  },
  {
   "source": [
    "print(df.head(15))\n",
    "print(df.describe())"
   ],
   "cell_type": "code",
   "outputs": [],
   "metadata": {},
   "execution_count": null
  },
  {
   "source": [
    "age_mean = df.age.mean()\n",
    "print(\"The average age of the data is {:.2f} years old\".format(age_mean))"
   ],
   "cell_type": "code",
   "outputs": [],
   "metadata": {},
   "execution_count": null
  },
  {
   "source": [
    "# Num patients in different regions\n",
    "num_patients_by_region = df.groupby('region').charges.count().reset_index()\n",
    "print(num_patients_by_region)\n",
    "fig, ax = plt.subplots()\n",
    "ax.bar(num_patients_by_region['region'], num_patients_by_region['charges'], color=['green', 'blue', 'grey', 'red'])\n",
    "plt.show()"
   ],
   "cell_type": "code",
   "outputs": [],
   "metadata": {},
   "execution_count": null
  },
  {
   "source": [
    "# Age vs BMI\n",
    "df_sorted = df.sort_values(by=['age']).groupby('age').bmi.mean().reset_index()\n",
    "df_ages = df_sorted.age\n",
    "df_bmi = df_sorted.bmi\n",
    "fig, ax = plt.subplots()\n",
    "ax.plot(df_ages, df_bmi, 'o')\n",
    "ax.set(xlabel='Age(years)', ylabel='bmi', title='Age vs BMI')\n",
    "ax.grid()\n",
    "plt.show()"
   ],
   "cell_type": "code",
   "outputs": [],
   "metadata": {},
   "execution_count": null
  },
  {
   "source": [
    "# Counting smokers by gender\n",
    "df['new_smoker'] = df.apply(lambda x: 0 if x['smoker']=='no' else 1, axis=1)\n",
    "df_sex_smoker = df.groupby('sex').new_smoker.sum().reset_index()\n",
    "print(df_sex_smoker)"
   ],
   "cell_type": "code",
   "outputs": [],
   "metadata": {},
   "execution_count": null
  },
  {
   "source": [
    "df_sex_children = df.groupby('sex').children.mean().reset_index()\n",
    "print(df_sex_children)"
   ],
   "cell_type": "code",
   "outputs": [],
   "metadata": {},
   "execution_count": null
  },
  {
   "source": [
    "def bmi_adjust(bmi_data):\n",
    "    if(bmi_data < 18.5):\n",
    "        return '0 Underweight'\n",
    "    elif(bmi_data < 25):\n",
    "        return '1 normal'\n",
    "    elif(bmi_data < 30):\n",
    "        return '2 Overweight'\n",
    "    elif(bmi_data < 35):\n",
    "        return '3 Obese'\n",
    "    return '4 Extremely Obese'\n",
    "df_sorted = df.sort_values(by=['bmi'])\n",
    "df_sorted['new_bmi'] = df_sorted.apply(lambda x: bmi_adjust(x['bmi']), axis=1)\n",
    "df_bmi = df_sorted.groupby('new_bmi').age.count().reset_index().sort_values(by=['new_bmi'])\n",
    "df_bmi['new_bmi'] = df_bmi.apply(lambda x: ' '.join(x['new_bmi'].split(' ')[1:]), axis=1)\n",
    "print(df_bmi)\n",
    "df_bmi_names = df_bmi['new_bmi']\n",
    "df_bmi_nums = df_bmi['age']\n",
    "fix, ax = plt.subplots()\n",
    "ax.bar(df_bmi_names, df_bmi_nums)\n",
    "ax.set(xlabel='bmi', ylabel='people', title='Number of people with BMI')\n",
    "plt.show()"
   ],
   "cell_type": "code",
   "outputs": [],
   "metadata": {},
   "execution_count": null
  },
  {
   "cell_type": "code",
   "execution_count": null,
   "metadata": {},
   "outputs": [],
   "source": []
  }
 ]
}